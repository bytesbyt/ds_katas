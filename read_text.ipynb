{
 "cells": [
  {
   "cell_type": "code",
   "execution_count": 3,
   "metadata": {},
   "outputs": [
    {
     "name": "stdout",
     "output_type": "stream",
     "text": [
      "mango, banana\n",
      "\n",
      "pawpaw, carrot\n",
      "\n",
      "orange, yam\n"
     ]
    }
   ],
   "source": [
    "## Read from a .txt file\n",
    "with open('text.txt', 'r') as f:\n",
    "    for line in f:\n",
    "        print(line)"
   ]
  },
  {
   "cell_type": "code",
   "execution_count": 11,
   "metadata": {},
   "outputs": [
    {
     "name": "stdout",
     "output_type": "stream",
     "text": [
      "['mango', ' banana\\n']\n",
      "['pawpaw', ' carrot\\n']\n",
      "['orange', ' yam']\n"
     ]
    }
   ],
   "source": [
    "with open('text.txt', 'r') as f:\n",
    "    for line in f:\n",
    "        line = line.split(',')\n",
    "        print(line)\n",
    "        #print(line[0], line[1].rstrip())"
   ]
  },
  {
   "cell_type": "code",
   "execution_count": 17,
   "metadata": {},
   "outputs": [],
   "source": [
    "## writing or appending to a file\n",
    "def save_to_file(first_name, surname, age):\n",
    "    with open('new_data.txt', 'a') as f:\n",
    "        line = ','.join([first_name, surname, age])\n",
    "        f.write(line + '\\n')\n",
    "        f.close()\n",
    "\n",
    "first_name = input(\"Enter your first name: \")\n",
    "surname = input(\"Enter your surname: \")\n",
    "age = input(\"How old are you?: \")\n",
    "\n",
    "save_to_file(first_name, surname, age)"
   ]
  },
  {
   "cell_type": "code",
   "execution_count": null,
   "metadata": {},
   "outputs": [],
   "source": []
  }
 ],
 "metadata": {
  "kernelspec": {
   "display_name": "3.12.6",
   "language": "python",
   "name": "python3"
  },
  "language_info": {
   "codemirror_mode": {
    "name": "ipython",
    "version": 3
   },
   "file_extension": ".py",
   "mimetype": "text/x-python",
   "name": "python",
   "nbconvert_exporter": "python",
   "pygments_lexer": "ipython3",
   "version": "3.12.6"
  }
 },
 "nbformat": 4,
 "nbformat_minor": 2
}
