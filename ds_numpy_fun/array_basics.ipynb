{
 "cells": [
  {
   "cell_type": "code",
   "execution_count": 2,
   "metadata": {},
   "outputs": [],
   "source": [
    "import numpy as np"
   ]
  },
  {
   "cell_type": "code",
   "execution_count": 3,
   "metadata": {},
   "outputs": [
    {
     "name": "stdout",
     "output_type": "stream",
     "text": [
      "[1 2 3]\n"
     ]
    }
   ],
   "source": [
    "# create a 1 dimentional array\n",
    "my1dArray = np.array([1,2,3])\n",
    "print(my1dArray)\n"
   ]
  },
  {
   "cell_type": "code",
   "execution_count": 4,
   "metadata": {},
   "outputs": [
    {
     "name": "stdout",
     "output_type": "stream",
     "text": [
      "[[1 2 3]\n",
      " [4 5 6]]\n"
     ]
    }
   ],
   "source": [
    "# create a 2d array\n",
    "my2dArray = np.array([[1,2,3], [4,5,6]])\n",
    "print(my2dArray)"
   ]
  },
  {
   "cell_type": "code",
   "execution_count": null,
   "metadata": {},
   "outputs": [],
   "source": []
  },
  {
   "cell_type": "code",
   "execution_count": 5,
   "metadata": {},
   "outputs": [
    {
     "name": "stdout",
     "output_type": "stream",
     "text": [
      "[[1. 2. 3.]\n",
      " [4. 5. 6.]]\n"
     ]
    }
   ],
   "source": [
    "# creating an array specifying the data type\n",
    "\n",
    "my2dArrayFloat = np.array([[1,2,3],[4,5,6]], dtype = 'float')\n",
    "print(my2dArrayFloat)\n"
   ]
  },
  {
   "cell_type": "code",
   "execution_count": 6,
   "metadata": {},
   "outputs": [
    {
     "data": {
      "text/plain": [
       "dtype('float64')"
      ]
     },
     "execution_count": 6,
     "metadata": {},
     "output_type": "execute_result"
    }
   ],
   "source": [
    "# confirming a data type\n",
    "my2dArrayFloat.dtype"
   ]
  },
  {
   "cell_type": "code",
   "execution_count": 7,
   "metadata": {},
   "outputs": [
    {
     "name": "stdout",
     "output_type": "stream",
     "text": [
      "[[1. 2. 3.]\n",
      " [4. 5. 6.]]\n"
     ]
    }
   ],
   "source": [
    "# creating a 2d array with data type in another form\n",
    "\n",
    "my2dArrayFloat32 = np.array([[1,2,3],[4,5,6]], dtype=np.float16)\n",
    "print(my2dArrayFloat32)"
   ]
  },
  {
   "cell_type": "code",
   "execution_count": 8,
   "metadata": {},
   "outputs": [
    {
     "data": {
      "text/plain": [
       "dtype('float16')"
      ]
     },
     "execution_count": 8,
     "metadata": {},
     "output_type": "execute_result"
    }
   ],
   "source": [
    "# confirming a data type\n",
    "my2dArrayFloat32.dtype"
   ]
  },
  {
   "cell_type": "code",
   "execution_count": 9,
   "metadata": {},
   "outputs": [
    {
     "name": "stdout",
     "output_type": "stream",
     "text": [
      "[['1' 'aaaaa' '4']\n",
      " ['4' '5' 'zzzzz']]\n"
     ]
    }
   ],
   "source": [
    "# creating an array with multiple data types\n",
    "\n",
    "charArray1 = np.array([(1,'aaaaa',4),(4,5,'zzzzz')], dtype='U6')\n",
    "\n",
    "print(charArray1)"
   ]
  },
  {
   "cell_type": "code",
   "execution_count": 10,
   "metadata": {},
   "outputs": [
    {
     "data": {
      "text/plain": [
       "dtype('<U6')"
      ]
     },
     "execution_count": 10,
     "metadata": {},
     "output_type": "execute_result"
    }
   ],
   "source": [
    "charArray1.dtype"
   ]
  },
  {
   "cell_type": "code",
   "execution_count": 11,
   "metadata": {},
   "outputs": [
    {
     "name": "stdout",
     "output_type": "stream",
     "text": [
      "[['a' 'b' '1']\n",
      " ['c' 'd' '2']]\n"
     ]
    },
    {
     "data": {
      "text/plain": [
       "dtype('<U1')"
      ]
     },
     "execution_count": 11,
     "metadata": {},
     "output_type": "execute_result"
    }
   ],
   "source": [
    "# create an array\n",
    "# indicate data ype to the array\n",
    "# and print the array and print the dtype\n",
    "\n",
    "charArray2 = np.array ([['a','b',1], ['c','d', '2']],dtype='U1')\n",
    "print(charArray2)\n",
    "charArray2.dtype"
   ]
  },
  {
   "cell_type": "code",
   "execution_count": 12,
   "metadata": {},
   "outputs": [
    {
     "name": "stdout",
     "output_type": "stream",
     "text": [
      "[[0 0 0]\n",
      " [0 0 0]]\n"
     ]
    }
   ],
   "source": [
    "# numpy initialisation\n",
    "number_rows = 2\n",
    "number_columns = 3\n",
    "\n",
    "#creating arrays\n",
    "array0s = np.zeros([number_rows, number_columns], dtype='int')\n",
    "print(array0s)"
   ]
  },
  {
   "cell_type": "code",
   "execution_count": 13,
   "metadata": {},
   "outputs": [
    {
     "name": "stdout",
     "output_type": "stream",
     "text": [
      "[[1. 1. 1.]\n",
      " [1. 1. 1.]]\n"
     ]
    }
   ],
   "source": [
    "# create arrays of one\n",
    "\n",
    "array1s = np.ones([number_rows, number_columns], dtype='float16')\n",
    "print(array1s)"
   ]
  },
  {
   "cell_type": "code",
   "execution_count": 14,
   "metadata": {},
   "outputs": [
    {
     "name": "stdout",
     "output_type": "stream",
     "text": [
      "[[5. 5. 5.]\n",
      " [5. 5. 5.]]\n"
     ]
    }
   ],
   "source": [
    "# create arrays of 5\n",
    "\n",
    "array5s = 5 * np.ones((number_rows, number_columns), dtype='float16')\n",
    "print(array5s)"
   ]
  },
  {
   "cell_type": "code",
   "execution_count": 15,
   "metadata": {},
   "outputs": [
    {
     "name": "stdout",
     "output_type": "stream",
     "text": [
      "[[10 10 10]\n",
      " [10 10 10]]\n"
     ]
    }
   ],
   "source": [
    "array7s = np.full((number_rows, number_columns), 10)\n",
    "print(array7s)"
   ]
  },
  {
   "cell_type": "code",
   "execution_count": 16,
   "metadata": {},
   "outputs": [
    {
     "name": "stdout",
     "output_type": "stream",
     "text": [
      "[10 13 16 19 22 25]\n"
     ]
    }
   ],
   "source": [
    "# creating an array of evenly spaced values\n",
    "\n",
    "start = 10\n",
    "end = 26\n",
    "step = 3\n",
    "\n",
    "evenlyStep = np.arange(start, end, step)\n",
    "print(evenlyStep)"
   ]
  },
  {
   "cell_type": "code",
   "execution_count": 17,
   "metadata": {},
   "outputs": [
    {
     "name": "stdout",
     "output_type": "stream",
     "text": [
      "[10 15 20 26]\n"
     ]
    }
   ],
   "source": [
    "# create an array with linspace\n",
    "# get the number of samples\n",
    "\n",
    "number_samples = 4\n",
    "evenlySample = np.linspace(start, end, number_samples, dtype='int')\n",
    "\n",
    "print(evenlySample)"
   ]
  },
  {
   "cell_type": "code",
   "execution_count": 18,
   "metadata": {},
   "outputs": [
    {
     "name": "stdout",
     "output_type": "stream",
     "text": [
      "[[1. 0. 0.]\n",
      " [0. 1. 0.]\n",
      " [0. 0. 1.]]\n"
     ]
    }
   ],
   "source": [
    "# creata an identity matrix\n",
    "identity = np.eye(3)\n",
    "print(identity)\n"
   ]
  },
  {
   "cell_type": "code",
   "execution_count": 19,
   "metadata": {},
   "outputs": [
    {
     "name": "stdout",
     "output_type": "stream",
     "text": [
      "[[0.00529482 0.30024471 0.31039465]\n",
      " [0.08410002 0.83272294 0.50136845]]\n"
     ]
    }
   ],
   "source": [
    "# generate numbers between 0.0, 1.0\n",
    "random01 = np.random.random((2,3))\n",
    "print(random01)"
   ]
  },
  {
   "cell_type": "code",
   "execution_count": 20,
   "metadata": {},
   "outputs": [
    {
     "name": "stdout",
     "output_type": "stream",
     "text": [
      "[[ 9  7 10]\n",
      " [ 3 10  6]]\n"
     ]
    }
   ],
   "source": [
    "# generate int between 0,10 - 2 by 3 array\n",
    "# the last number not included\n",
    "randomnum = np.random.randint(0,11, (2,3))\n",
    "print(randomnum)"
   ]
  },
  {
   "cell_type": "code",
   "execution_count": 21,
   "metadata": {},
   "outputs": [],
   "source": [
    "minval = 10.5\n",
    "maxval = 25.5"
   ]
  },
  {
   "cell_type": "code",
   "execution_count": 22,
   "metadata": {},
   "outputs": [
    {
     "name": "stdout",
     "output_type": "stream",
     "text": [
      "[[19.38367685 13.94114947 24.43463222]\n",
      " [14.11032844 21.07039903 18.09971745]]\n"
     ]
    }
   ],
   "source": [
    "randomFloat = np.random.uniform(minval, maxval, (2,3))\n",
    "print(randomFloat)"
   ]
  },
  {
   "cell_type": "code",
   "execution_count": 23,
   "metadata": {},
   "outputs": [
    {
     "name": "stdout",
     "output_type": "stream",
     "text": [
      "Dimension: 2\n",
      "Shape: (2, 3)\n",
      "Size: 6\n",
      "Data Tye: int64\n"
     ]
    }
   ],
   "source": [
    "# array inspection, indexing and slicing\n",
    "a = np.array([[1,2,4],[4,5,6]])\n",
    "\n",
    "#find the dimension of the array\n",
    "print(\"Dimension:\", a.ndim)\n",
    "print(\"Shape:\", a.shape)\n",
    "print(\"Size:\", a.size)\n",
    "print(\"Data Tye:\", a.dtype)\n"
   ]
  },
  {
   "cell_type": "code",
   "execution_count": 24,
   "metadata": {},
   "outputs": [
    {
     "name": "stdout",
     "output_type": "stream",
     "text": [
      "[[1 2 4]\n",
      " [4 5 6]]\n"
     ]
    }
   ],
   "source": [
    "print(a)"
   ]
  },
  {
   "cell_type": "code",
   "execution_count": 25,
   "metadata": {},
   "outputs": [
    {
     "name": "stdout",
     "output_type": "stream",
     "text": [
      "6\n"
     ]
    }
   ],
   "source": [
    "# inspection the array\n",
    "\n",
    "print(a[1,2])\n",
    "\n"
   ]
  },
  {
   "cell_type": "code",
   "execution_count": 26,
   "metadata": {},
   "outputs": [
    {
     "data": {
      "text/plain": [
       "array([2, 5])"
      ]
     },
     "execution_count": 26,
     "metadata": {},
     "output_type": "execute_result"
    }
   ],
   "source": [
    "a[0:2, 1]"
   ]
  },
  {
   "cell_type": "code",
   "execution_count": 27,
   "metadata": {},
   "outputs": [
    {
     "data": {
      "text/plain": [
       "array([1, 2])"
      ]
     },
     "execution_count": 27,
     "metadata": {},
     "output_type": "execute_result"
    }
   ],
   "source": [
    "a[a<3]"
   ]
  },
  {
   "cell_type": "code",
   "execution_count": 28,
   "metadata": {},
   "outputs": [
    {
     "name": "stdout",
     "output_type": "stream",
     "text": [
      "[[5 6 7]\n",
      " [1 4 5]\n",
      " [2 3 4]]\n"
     ]
    }
   ],
   "source": [
    "# diagonal\n",
    "b = np.array([[5,6,7],[1,4,5],[2,3,4]])\n",
    "print(b)"
   ]
  },
  {
   "cell_type": "code",
   "execution_count": 29,
   "metadata": {},
   "outputs": [
    {
     "data": {
      "text/plain": [
       "array([5, 4, 4])"
      ]
     },
     "execution_count": 29,
     "metadata": {},
     "output_type": "execute_result"
    }
   ],
   "source": [
    "np.diag(b)"
   ]
  },
  {
   "cell_type": "code",
   "execution_count": 30,
   "metadata": {},
   "outputs": [
    {
     "name": "stdout",
     "output_type": "stream",
     "text": [
      "[ 0  2  4 -5 -3  7  8  9 -5 -1]\n",
      "[ 0  2  4 -5 -3 -5 -1]\n"
     ]
    }
   ],
   "source": [
    "# generate a numpy array\n",
    "arr = np.array([0,2,4,5,3,7,8,9,5,1])\n",
    "\n",
    "# find the odd number and replace them with their negative value, but for numbers below 7\n",
    "arr[(arr % 2 == 1) & (arr < 7)] = -1 * arr[(arr % 2 == 1) & (arr < 7)]\n",
    "\n",
    "print(arr)\n",
    "\n",
    "# print the output only when they are below 7\n",
    "print(arr[arr < 7])\n",
    "\n"
   ]
  },
  {
   "cell_type": "code",
   "execution_count": 31,
   "metadata": {},
   "outputs": [],
   "source": [
    "# arithmetrics\n",
    "a = np.array([[1,2,5], [7,1,3]])\n",
    "b = np.array([[4,6,9], [2,5,9]])\n",
    "\n"
   ]
  },
  {
   "cell_type": "code",
   "execution_count": 32,
   "metadata": {},
   "outputs": [
    {
     "name": "stdout",
     "output_type": "stream",
     "text": [
      "[[ 5  8 14]\n",
      " [ 9  6 12]]\n",
      "[[ 5  8 14]\n",
      " [ 9  6 12]]\n"
     ]
    }
   ],
   "source": [
    "# addition of array\n",
    "\n",
    "add1 = a + b\n",
    "add2 = np.add(a,b)\n",
    "\n",
    "print(add1)\n",
    "print(add2)"
   ]
  },
  {
   "cell_type": "code",
   "execution_count": 33,
   "metadata": {},
   "outputs": [
    {
     "name": "stdout",
     "output_type": "stream",
     "text": [
      "[[-3 -4 -4]\n",
      " [ 5 -4 -6]]\n",
      "[[-3 -4 -4]\n",
      " [ 5 -4 -6]]\n"
     ]
    }
   ],
   "source": [
    "# subtract\n",
    "\n",
    "sub1 = a - b\n",
    "sub2 = np.subtract(a,b)\n",
    "print(sub1)\n",
    "print(sub2)\n"
   ]
  },
  {
   "cell_type": "code",
   "execution_count": 34,
   "metadata": {},
   "outputs": [
    {
     "name": "stdout",
     "output_type": "stream",
     "text": [
      "[[ 4 12 45]\n",
      " [14  5 27]]\n",
      "[[ 4 12 45]\n",
      " [14  5 27]]\n"
     ]
    }
   ],
   "source": [
    "# multiplication of array\n",
    "mul1 = a * b\n",
    "mul2 = np.multiply(a,b)\n",
    "\n",
    "print(mul1)\n",
    "print(mul2)\n"
   ]
  },
  {
   "cell_type": "code",
   "execution_count": 35,
   "metadata": {},
   "outputs": [
    {
     "name": "stdout",
     "output_type": "stream",
     "text": [
      "[[0.25       0.33333333 0.55555556]\n",
      " [3.5        0.2        0.33333333]]\n",
      "[[0.25       0.33333333 0.55555556]\n",
      " [3.5        0.2        0.33333333]]\n"
     ]
    }
   ],
   "source": [
    "# division\n",
    "div1 = a/b\n",
    "div2 = np.divide(a,b)\n",
    "\n",
    "print(div1)\n",
    "print(div2)\n"
   ]
  },
  {
   "cell_type": "code",
   "execution_count": 36,
   "metadata": {},
   "outputs": [
    {
     "name": "stdout",
     "output_type": "stream",
     "text": [
      "[[   2.71828183    7.3890561   148.4131591 ]\n",
      " [1096.63315843    2.71828183   20.08553692]]\n"
     ]
    }
   ],
   "source": [
    "# other operation\n",
    "# exponential\n",
    "ex = np.exp(a)\n",
    "# square root\n",
    "sqroot = np.sqrt(a)\n",
    "# sine\n",
    "find_si = np.sin(a)\n",
    "find_co = np.cos(a)\n",
    "find_lg = np.log(a)\n",
    "\n",
    "# print all the results\n",
    "print(ex)\n",
    "\n",
    "\n"
   ]
  },
  {
   "cell_type": "code",
   "execution_count": 37,
   "metadata": {},
   "outputs": [
    {
     "name": "stdout",
     "output_type": "stream",
     "text": [
      "[[1.         1.41421356 2.23606798]\n",
      " [2.64575131 1.         1.73205081]]\n"
     ]
    }
   ],
   "source": [
    "print(sqroot)"
   ]
  },
  {
   "cell_type": "code",
   "execution_count": 38,
   "metadata": {},
   "outputs": [
    {
     "name": "stdout",
     "output_type": "stream",
     "text": [
      "[[ 0.84147098  0.90929743 -0.95892427]\n",
      " [ 0.6569866   0.84147098  0.14112001]]\n"
     ]
    }
   ],
   "source": [
    "print(find_si)"
   ]
  },
  {
   "cell_type": "code",
   "execution_count": 39,
   "metadata": {},
   "outputs": [
    {
     "name": "stdout",
     "output_type": "stream",
     "text": [
      "[[ 0.54030231 -0.41614684  0.28366219]\n",
      " [ 0.75390225  0.54030231 -0.9899925 ]]\n"
     ]
    }
   ],
   "source": [
    "print(find_co)"
   ]
  },
  {
   "cell_type": "code",
   "execution_count": 40,
   "metadata": {},
   "outputs": [
    {
     "name": "stdout",
     "output_type": "stream",
     "text": [
      "[[0.         0.69314718 1.60943791]\n",
      " [1.94591015 0.         1.09861229]]\n"
     ]
    }
   ],
   "source": [
    "print(find_lg)"
   ]
  },
  {
   "cell_type": "code",
   "execution_count": 41,
   "metadata": {},
   "outputs": [
    {
     "data": {
      "text/plain": [
       "(2, 3)"
      ]
     },
     "execution_count": 41,
     "metadata": {},
     "output_type": "execute_result"
    }
   ],
   "source": [
    "a.shape"
   ]
  },
  {
   "cell_type": "code",
   "execution_count": 42,
   "metadata": {},
   "outputs": [
    {
     "data": {
      "text/plain": [
       "(2, 3)"
      ]
     },
     "execution_count": 42,
     "metadata": {},
     "output_type": "execute_result"
    }
   ],
   "source": [
    "b.shape"
   ]
  },
  {
   "cell_type": "code",
   "execution_count": 43,
   "metadata": {},
   "outputs": [
    {
     "data": {
      "text/plain": [
       "(3, 2)"
      ]
     },
     "execution_count": 43,
     "metadata": {},
     "output_type": "execute_result"
    }
   ],
   "source": [
    "c = np.array([[5,6],[3,5],[8,2]])\n",
    "c.shape\n"
   ]
  },
  {
   "cell_type": "code",
   "execution_count": 44,
   "metadata": {},
   "outputs": [
    {
     "name": "stdout",
     "output_type": "stream",
     "text": [
      "[[51 26]\n",
      " [62 53]]\n"
     ]
    }
   ],
   "source": [
    "# dot product calculations\n",
    "dotp = a.dot(c)\n",
    "print(dotp)"
   ]
  },
  {
   "cell_type": "code",
   "execution_count": 45,
   "metadata": {},
   "outputs": [
    {
     "name": "stdout",
     "output_type": "stream",
     "text": [
      "19\n",
      "19\n"
     ]
    }
   ],
   "source": [
    "# statistics for this array\n",
    "d = np.array([[1,2,5],[7,1,3]])\n",
    "# summ\n",
    "summ1 = a.sum()\n",
    "summ2 = np.sum(a)\n",
    "\n",
    "print(summ1)\n",
    "print(summ2)\n",
    "\n"
   ]
  },
  {
   "cell_type": "code",
   "execution_count": 46,
   "metadata": {},
   "outputs": [
    {
     "name": "stdout",
     "output_type": "stream",
     "text": [
      "[[1 2 5]\n",
      " [7 1 3]]\n"
     ]
    }
   ],
   "source": [
    "print(d)"
   ]
  },
  {
   "cell_type": "code",
   "execution_count": 47,
   "metadata": {},
   "outputs": [
    {
     "name": "stdout",
     "output_type": "stream",
     "text": [
      "[ 8 11]\n"
     ]
    }
   ],
   "source": [
    "# sum of array column\n",
    "sum1row = d.sum(axis = 1)\n",
    "sum2row = np.sum(d, axis=0)\n",
    "\n",
    "print(sum1row)"
   ]
  },
  {
   "cell_type": "code",
   "execution_count": 48,
   "metadata": {},
   "outputs": [
    {
     "name": "stdout",
     "output_type": "stream",
     "text": [
      "[5 7]\n"
     ]
    }
   ],
   "source": [
    "# maximum overall \n",
    "maxi = d.max(axis = 1)\n",
    "print(maxi)"
   ]
  },
  {
   "cell_type": "code",
   "execution_count": 49,
   "metadata": {},
   "outputs": [
    {
     "name": "stdout",
     "output_type": "stream",
     "text": [
      "[2.66666667 3.66666667]\n"
     ]
    }
   ],
   "source": [
    "# mean\n",
    "average = np.mean(d, axis = 1)\n",
    "print(average)"
   ]
  },
  {
   "cell_type": "code",
   "execution_count": 50,
   "metadata": {},
   "outputs": [
    {
     "name": "stdout",
     "output_type": "stream",
     "text": [
      "[1.69967317 2.49443826]\n"
     ]
    }
   ],
   "source": [
    "# standard deviation\n",
    "stand_dev = np.std(d, axis = 1)\n",
    "print(stand_dev)"
   ]
  },
  {
   "cell_type": "code",
   "execution_count": 51,
   "metadata": {},
   "outputs": [],
   "source": [
    "# task 1\n",
    "from numpy import linalg as la\n",
    "A = np.array([0,0])\n",
    "B = np.array([0,3])\n",
    "C = np.array([1.5,0])\n"
   ]
  },
  {
   "cell_type": "code",
   "execution_count": 52,
   "metadata": {},
   "outputs": [],
   "source": [
    "# compute\n",
    "AB = la.norm(A-B)\n",
    "AC = la.norm(A-C)\n",
    "BC = la.norm(B-C)"
   ]
  },
  {
   "cell_type": "code",
   "execution_count": 53,
   "metadata": {},
   "outputs": [
    {
     "name": "stdout",
     "output_type": "stream",
     "text": [
      "3.0\n"
     ]
    }
   ],
   "source": [
    "print(AB)"
   ]
  },
  {
   "cell_type": "code",
   "execution_count": 54,
   "metadata": {},
   "outputs": [
    {
     "name": "stdout",
     "output_type": "stream",
     "text": [
      "1.5\n"
     ]
    }
   ],
   "source": [
    "print(AC)"
   ]
  },
  {
   "cell_type": "code",
   "execution_count": 55,
   "metadata": {},
   "outputs": [
    {
     "name": "stdout",
     "output_type": "stream",
     "text": [
      "3.3541019662496847\n"
     ]
    }
   ],
   "source": [
    "print(BC)"
   ]
  },
  {
   "cell_type": "code",
   "execution_count": 56,
   "metadata": {},
   "outputs": [
    {
     "name": "stdout",
     "output_type": "stream",
     "text": [
      "[[1 2 5]\n",
      " [7 1 3]]\n"
     ]
    }
   ],
   "source": [
    "# array manipulations\n",
    "e = np.array([[1,2,5], [7,1,3]])\n",
    "print(e)\n",
    "# transpose (row becomes the column and column becomes the row)\n",
    "# k,l becomes l,k\n",
    "\n"
   ]
  },
  {
   "cell_type": "code",
   "execution_count": 57,
   "metadata": {},
   "outputs": [
    {
     "name": "stdout",
     "output_type": "stream",
     "text": [
      "[[1 7]\n",
      " [2 1]\n",
      " [5 3]]\n",
      "[[1 7]\n",
      " [2 1]\n",
      " [5 3]]\n"
     ]
    }
   ],
   "source": [
    "# flipping axes where the row becomes columns and columns becomes rows\n",
    "tr1 = np.transpose(a)\n",
    "tr2 = e.T\n",
    "\n",
    "print(tr1)\n",
    "print(tr2)"
   ]
  },
  {
   "cell_type": "code",
   "execution_count": 58,
   "metadata": {},
   "outputs": [
    {
     "name": "stdout",
     "output_type": "stream",
     "text": [
      "[[1 2 5]\n",
      " [7 1 3]]\n",
      "[[1 2]\n",
      " [5 7]\n",
      " [1 3]]\n",
      "[[1 2]\n",
      " [5 7]\n",
      " [1 3]]\n"
     ]
    }
   ],
   "source": [
    "# reshape an array\n",
    "print(e)\n",
    "reshape1 = np.reshape(e, (3,2))\n",
    "reshape2 = e.reshape(3,2)\n",
    "print(reshape1)\n",
    "print(reshape2)"
   ]
  },
  {
   "cell_type": "code",
   "execution_count": 59,
   "metadata": {},
   "outputs": [
    {
     "name": "stdout",
     "output_type": "stream",
     "text": [
      "[1 2 5 7 1 3]\n"
     ]
    }
   ],
   "source": [
    "# reshape to rows\n",
    "reshrow = e.reshape(6)\n",
    "print(reshrow)\n",
    "\n"
   ]
  },
  {
   "cell_type": "code",
   "execution_count": 60,
   "metadata": {},
   "outputs": [
    {
     "name": "stdout",
     "output_type": "stream",
     "text": [
      "[[1 2 5]\n",
      " [7 1 3]]\n",
      "[[1 2 5 7 8 9]\n",
      " [7 1 3 4 1 9]]\n"
     ]
    }
   ],
   "source": [
    "print(e)\n",
    "# horizontal stacking first\n",
    "f = np.array([[7,8],[4,1]])\n",
    "g = np.array([[9], [9]])\n",
    "\n",
    "# hstack\n",
    "efg = np.hstack([e,f,g])\n",
    "print(efg)"
   ]
  },
  {
   "cell_type": "code",
   "execution_count": 61,
   "metadata": {},
   "outputs": [
    {
     "name": "stdout",
     "output_type": "stream",
     "text": [
      "[[1 2 5]\n",
      " [7 1 3]]\n",
      "[[1 2 5]\n",
      " [7 1 3]\n",
      " [3 4 1]\n",
      " [4 4 4]\n",
      " [7 7 7]]\n"
     ]
    }
   ],
   "source": [
    "print(e)\n",
    "# vertical stacking\n",
    "i = np.array([3,4,1])\n",
    "j = np.array([[4,4,4], [7,7,7]])\n",
    "\n",
    "# vertical stacking\n",
    "eij = np.vstack([e,i,j])\n",
    "print(eij)\n",
    "\n"
   ]
  },
  {
   "cell_type": "code",
   "execution_count": 62,
   "metadata": {},
   "outputs": [],
   "source": [
    "x = np.array([[1,2,5], [7,1,3]])\n",
    "y = np.array([[7,8], [4,1]])\n",
    "\n",
    "# save an array to a binary file (.npy)\n",
    "np.save('array_a', x)"
   ]
  },
  {
   "cell_type": "code",
   "execution_count": 63,
   "metadata": {},
   "outputs": [],
   "source": [
    "# save several arrays to file (default file extension is .npz)\n",
    "np.savez('array_xv', arr1 = x, arr2 = y)\n",
    "\n",
    "\n"
   ]
  },
  {
   "cell_type": "code",
   "execution_count": 64,
   "metadata": {},
   "outputs": [],
   "source": [
    "# save an array in a text file (.txt)\n",
    "np.savetxt('array_x.txt', x)"
   ]
  },
  {
   "cell_type": "code",
   "execution_count": 65,
   "metadata": {},
   "outputs": [],
   "source": [
    "# save to a text file but indicate a seperator and the data type we want\n",
    "# %d means int\n",
    "# %s means string\n",
    "# %f means float\n",
    "\n",
    "np.savetxt('array_x.txt', x, delimiter=',', fmt='%.2f')\n",
    "np.savetxt('array_x2.txt', x, delimiter=',', fmt='%.2f')\n",
    "np.savetxt('array_x3.txt', x, delimiter=',', fmt='%s')"
   ]
  },
  {
   "cell_type": "code",
   "execution_count": 66,
   "metadata": {},
   "outputs": [],
   "source": [
    "# save to a csv file\n",
    "np.savetxt('array_x4.csv', y, delimiter=',', fmt='%d')"
   ]
  },
  {
   "cell_type": "code",
   "execution_count": 67,
   "metadata": {},
   "outputs": [
    {
     "name": "stdout",
     "output_type": "stream",
     "text": [
      "[[1 2 5]\n",
      " [7 1 3]]\n",
      "[[1 2 5]\n",
      " [7 1 3]]\n",
      "[[7 8]\n",
      " [4 1]]\n"
     ]
    }
   ],
   "source": [
    "# loading the .npy file\n",
    "ANPY = np.load('array_a.npy')\n",
    "\n",
    "# load the array in the .npz file\n",
    "content = np.load('array_xv.npz')\n",
    "\n",
    "file1 = content['arr1']\n",
    "file2 = content['arr2']\n",
    "\n",
    "# open the .txt file\n",
    "\n",
    "atx2 = np.loadtxt('array_x3.txt', delimiter= ',', dtype=int)\n",
    "\n",
    "# read the csv file\n",
    "acsv = np.loadtxt('array_x4.csv', delimiter= ',', dtype=int)\n",
    "\n",
    "print(ANPY)\n",
    "print(atx2)\n",
    "print(acsv)\n"
   ]
  },
  {
   "cell_type": "code",
   "execution_count": 68,
   "metadata": {},
   "outputs": [
    {
     "name": "stdout",
     "output_type": "stream",
     "text": [
      "[[1.99 2.23]\n",
      " [7.75 1.89]\n",
      " [3.5  4.77]]\n",
      "[['2.0' '2.2']\n",
      " ['7.8' '1.9']\n",
      " ['3.5' '4.8']]\n",
      "[['r1' '2.0' '2.2']\n",
      " ['r2' '7.8' '1.9']\n",
      " ['r3' '3.5' '4.8']]\n"
     ]
    }
   ],
   "source": [
    "## create array\n",
    "data = np.array([[1.99, 2.23], [7.75, 1.89], [3.50, 4.77]])\n",
    "print(data)\n",
    "\n",
    "# rounding the array to 1 decimal place and convertin to a string\n",
    "round_data = np.round(data, 1).astype(str)\n",
    "print(round_data)\n",
    "\n",
    "# creata a row header and join it with the array\n",
    "row_header = np.array([['r1'], ['r2'], ['r3']])\n",
    "\n",
    "data_with_row_header = np.hstack((row_header, round_data))\n",
    "\n",
    "print(data_with_row_header)\n",
    "\n",
    "# adding column header to the  data\n",
    "column_header = ['c1', 'c2', 'c3']\n",
    "header = ','.join(column_header)\n",
    "\n",
    "\n",
    "# save the data in a csv file\n",
    "np.savetxt('result.csv', data_with_row_header, delimiter=',', fmt='%s', header=header, comments='')\n",
    "\n"
   ]
  },
  {
   "cell_type": "code",
   "execution_count": 70,
   "metadata": {},
   "outputs": [
    {
     "name": "stdout",
     "output_type": "stream",
     "text": [
      "[[ 1  2  3  4  5  6  7]\n",
      " [ 8  9 10 11 12 13 14]]\n"
     ]
    }
   ],
   "source": [
    "p = np.array([[1,2,3,4,5,6,7],[8,9,10,11,12,13,14]])\n",
    "print (p)"
   ]
  },
  {
   "cell_type": "code",
   "execution_count": 71,
   "metadata": {},
   "outputs": [
    {
     "data": {
      "text/plain": [
       "np.int64(1)"
      ]
     },
     "execution_count": 71,
     "metadata": {},
     "output_type": "execute_result"
    }
   ],
   "source": [
    "# get specific element\n",
    "p[0,0]"
   ]
  },
  {
   "cell_type": "code",
   "execution_count": 72,
   "metadata": {},
   "outputs": [
    {
     "name": "stdout",
     "output_type": "stream",
     "text": [
      "[[ 1  2 20  4  5  6  7]\n",
      " [ 8  9 20 11 12 13 14]]\n"
     ]
    }
   ],
   "source": [
    "# replace 3rd column of both of the numpy arrays to 20\n",
    "\n",
    "p[:,2] = 20\n",
    "\n",
    "print(p)"
   ]
  },
  {
   "cell_type": "code",
   "execution_count": 79,
   "metadata": {},
   "outputs": [
    {
     "data": {
      "text/plain": [
       "array([[99, 99],\n",
       "       [99, 99]])"
      ]
     },
     "execution_count": 79,
     "metadata": {},
     "output_type": "execute_result"
    }
   ],
   "source": [
    "# All is matrix\n",
    "np.full((2,2),99)\n"
   ]
  },
  {
   "cell_type": "code",
   "execution_count": 83,
   "metadata": {},
   "outputs": [
    {
     "data": {
      "text/plain": [
       "array([[4, 4, 4, 4, 4, 4, 4],\n",
       "       [4, 4, 4, 4, 4, 4, 4]])"
      ]
     },
     "execution_count": 83,
     "metadata": {},
     "output_type": "execute_result"
    }
   ],
   "source": [
    "# same shape as p\n",
    "np.full(p.shape, 4)\n"
   ]
  },
  {
   "cell_type": "code",
   "execution_count": 85,
   "metadata": {},
   "outputs": [
    {
     "data": {
      "text/plain": [
       "array([[4, 4, 4, 4, 4, 4, 4],\n",
       "       [4, 4, 4, 4, 4, 4, 4]])"
      ]
     },
     "execution_count": 85,
     "metadata": {},
     "output_type": "execute_result"
    }
   ],
   "source": [
    "# same shape as p\n",
    "np.full_like(p,4)"
   ]
  },
  {
   "cell_type": "code",
   "execution_count": 90,
   "metadata": {},
   "outputs": [
    {
     "data": {
      "text/plain": [
       "array([[0.41327691, 0.50340531, 0.80406494, 0.33786308, 0.60877875,\n",
       "        0.85167702, 0.01758362],\n",
       "       [0.55179911, 0.97815546, 0.49977139, 0.49074545, 0.39560345,\n",
       "        0.48926924, 0.19515652]])"
      ]
     },
     "execution_count": 90,
     "metadata": {},
     "output_type": "execute_result"
    }
   ],
   "source": [
    "#random decimal numbers : same shape as p\n",
    "np.random.random_sample(p.shape)"
   ]
  },
  {
   "cell_type": "code",
   "execution_count": 105,
   "metadata": {},
   "outputs": [
    {
     "data": {
      "text/plain": [
       "array([[2, 3, 2],\n",
       "       [2, 2, 3],\n",
       "       [2, 2, 3]])"
      ]
     },
     "execution_count": 105,
     "metadata": {},
     "output_type": "execute_result"
    }
   ],
   "source": [
    "#random interger values\n",
    "# random number between 2 and 3 \n",
    "np.random.randint(2,4, size= (3,3))"
   ]
  },
  {
   "cell_type": "code",
   "execution_count": 106,
   "metadata": {},
   "outputs": [
    {
     "data": {
      "text/plain": [
       "array([[1., 0., 0., 0., 0.],\n",
       "       [0., 1., 0., 0., 0.],\n",
       "       [0., 0., 1., 0., 0.],\n",
       "       [0., 0., 0., 1., 0.],\n",
       "       [0., 0., 0., 0., 1.]])"
      ]
     },
     "execution_count": 106,
     "metadata": {},
     "output_type": "execute_result"
    }
   ],
   "source": [
    "# The identitiy matrix (5x 5)\n",
    "\n",
    "np.identity(5)"
   ]
  }
 ],
 "metadata": {
  "kernelspec": {
   "display_name": "3.12.6",
   "language": "python",
   "name": "python3"
  },
  "language_info": {
   "codemirror_mode": {
    "name": "ipython",
    "version": 3
   },
   "file_extension": ".py",
   "mimetype": "text/x-python",
   "name": "python",
   "nbconvert_exporter": "python",
   "pygments_lexer": "ipython3",
   "version": "3.12.6"
  }
 },
 "nbformat": 4,
 "nbformat_minor": 2
}
