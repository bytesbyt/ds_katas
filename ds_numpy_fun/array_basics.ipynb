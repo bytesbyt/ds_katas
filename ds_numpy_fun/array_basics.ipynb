{
 "cells": [
  {
   "cell_type": "code",
   "execution_count": 3,
   "metadata": {},
   "outputs": [],
   "source": [
    "import numpy as np"
   ]
  },
  {
   "cell_type": "code",
   "execution_count": 4,
   "metadata": {},
   "outputs": [
    {
     "name": "stdout",
     "output_type": "stream",
     "text": [
      "[1 2 3]\n"
     ]
    }
   ],
   "source": [
    "# create a 1 dimentional array\n",
    "my1dArray = np.array([1,2,3])\n",
    "print(my1dArray)\n"
   ]
  },
  {
   "cell_type": "code",
   "execution_count": 5,
   "metadata": {},
   "outputs": [
    {
     "name": "stdout",
     "output_type": "stream",
     "text": [
      "[[1 2 3]\n",
      " [4 5 6]]\n"
     ]
    }
   ],
   "source": [
    "# create a 2d array\n",
    "my2dArray = np.array([[1,2,3], [4,5,6]])\n",
    "print(my2dArray)"
   ]
  },
  {
   "cell_type": "code",
   "execution_count": null,
   "metadata": {},
   "outputs": [],
   "source": []
  },
  {
   "cell_type": "code",
   "execution_count": 6,
   "metadata": {},
   "outputs": [
    {
     "name": "stdout",
     "output_type": "stream",
     "text": [
      "[[1. 2. 3.]\n",
      " [4. 5. 6.]]\n"
     ]
    }
   ],
   "source": [
    "# creating an array specifying the data type\n",
    "\n",
    "my2dArrayFloat = np.array([[1,2,3],[4,5,6]], dtype = 'float')\n",
    "print(my2dArrayFloat)\n"
   ]
  },
  {
   "cell_type": "code",
   "execution_count": 7,
   "metadata": {},
   "outputs": [
    {
     "data": {
      "text/plain": [
       "dtype('float64')"
      ]
     },
     "execution_count": 7,
     "metadata": {},
     "output_type": "execute_result"
    }
   ],
   "source": [
    "# confirming a data type\n",
    "my2dArrayFloat.dtype"
   ]
  },
  {
   "cell_type": "code",
   "execution_count": 8,
   "metadata": {},
   "outputs": [
    {
     "name": "stdout",
     "output_type": "stream",
     "text": [
      "[[1. 2. 3.]\n",
      " [4. 5. 6.]]\n"
     ]
    }
   ],
   "source": [
    "# creating a 2d array with data type in another form\n",
    "\n",
    "my2dArrayFloat32 = np.array([[1,2,3],[4,5,6]], dtype=np.float16)\n",
    "print(my2dArrayFloat32)"
   ]
  },
  {
   "cell_type": "code",
   "execution_count": 9,
   "metadata": {},
   "outputs": [
    {
     "data": {
      "text/plain": [
       "dtype('float16')"
      ]
     },
     "execution_count": 9,
     "metadata": {},
     "output_type": "execute_result"
    }
   ],
   "source": [
    "# confirming a data type\n",
    "my2dArrayFloat32.dtype"
   ]
  },
  {
   "cell_type": "code",
   "execution_count": 10,
   "metadata": {},
   "outputs": [
    {
     "name": "stdout",
     "output_type": "stream",
     "text": [
      "[['1' 'aaaaa' '4']\n",
      " ['4' '5' 'zzzzz']]\n"
     ]
    }
   ],
   "source": [
    "# creating an array with multiple data types\n",
    "\n",
    "charArray1 = np.array([(1,'aaaaa',4),(4,5,'zzzzz')], dtype='U6')\n",
    "\n",
    "print(charArray1)"
   ]
  },
  {
   "cell_type": "code",
   "execution_count": 11,
   "metadata": {},
   "outputs": [
    {
     "data": {
      "text/plain": [
       "dtype('<U6')"
      ]
     },
     "execution_count": 11,
     "metadata": {},
     "output_type": "execute_result"
    }
   ],
   "source": [
    "charArray1.dtype"
   ]
  },
  {
   "cell_type": "code",
   "execution_count": 12,
   "metadata": {},
   "outputs": [
    {
     "name": "stdout",
     "output_type": "stream",
     "text": [
      "[['a' 'b' '1']\n",
      " ['c' 'd' '2']]\n"
     ]
    },
    {
     "data": {
      "text/plain": [
       "dtype('<U1')"
      ]
     },
     "execution_count": 12,
     "metadata": {},
     "output_type": "execute_result"
    }
   ],
   "source": [
    "# create an array\n",
    "# indicate data ype to the array\n",
    "# and print the array and print the dtype\n",
    "\n",
    "charArray2 = np.array ([['a','b',1], ['c','d', '2']],dtype='U1')\n",
    "print(charArray2)\n",
    "charArray2.dtype"
   ]
  },
  {
   "cell_type": "code",
   "execution_count": 13,
   "metadata": {},
   "outputs": [
    {
     "name": "stdout",
     "output_type": "stream",
     "text": [
      "[[0 0 0]\n",
      " [0 0 0]]\n"
     ]
    }
   ],
   "source": [
    "# numpy initialisation\n",
    "number_rows = 2\n",
    "number_columns = 3\n",
    "\n",
    "#creating arrays\n",
    "array0s = np.zeros([number_rows, number_columns], dtype='int')\n",
    "print(array0s)"
   ]
  },
  {
   "cell_type": "code",
   "execution_count": 14,
   "metadata": {},
   "outputs": [
    {
     "name": "stdout",
     "output_type": "stream",
     "text": [
      "[[1. 1. 1.]\n",
      " [1. 1. 1.]]\n"
     ]
    }
   ],
   "source": [
    "# create arrays of one\n",
    "\n",
    "array1s = np.ones([number_rows, number_columns], dtype='float16')\n",
    "print(array1s)"
   ]
  },
  {
   "cell_type": "code",
   "execution_count": 15,
   "metadata": {},
   "outputs": [
    {
     "name": "stdout",
     "output_type": "stream",
     "text": [
      "[[5. 5. 5.]\n",
      " [5. 5. 5.]]\n"
     ]
    }
   ],
   "source": [
    "# create arrays of 5\n",
    "\n",
    "array5s = 5 * np.ones((number_rows, number_columns), dtype='float16')\n",
    "print(array5s)"
   ]
  },
  {
   "cell_type": "code",
   "execution_count": 16,
   "metadata": {},
   "outputs": [
    {
     "name": "stdout",
     "output_type": "stream",
     "text": [
      "[[10 10 10]\n",
      " [10 10 10]]\n"
     ]
    }
   ],
   "source": [
    "array7s = np.full((number_rows, number_columns), 10)\n",
    "print(array7s)"
   ]
  },
  {
   "cell_type": "code",
   "execution_count": 17,
   "metadata": {},
   "outputs": [
    {
     "name": "stdout",
     "output_type": "stream",
     "text": [
      "[10 13 16 19 22 25]\n"
     ]
    }
   ],
   "source": [
    "# creating an array of evenly spaced values\n",
    "\n",
    "start = 10\n",
    "end = 26\n",
    "step = 3\n",
    "\n",
    "evenlyStep = np.arange(start, end, step)\n",
    "print(evenlyStep)"
   ]
  },
  {
   "cell_type": "code",
   "execution_count": 18,
   "metadata": {},
   "outputs": [
    {
     "name": "stdout",
     "output_type": "stream",
     "text": [
      "[10 15 20 26]\n"
     ]
    }
   ],
   "source": [
    "# create an array with linspace\n",
    "# get the number of samples\n",
    "\n",
    "number_samples = 4\n",
    "evenlySample = np.linspace(start, end, number_samples, dtype='int')\n",
    "\n",
    "print(evenlySample)"
   ]
  },
  {
   "cell_type": "code",
   "execution_count": 19,
   "metadata": {},
   "outputs": [
    {
     "name": "stdout",
     "output_type": "stream",
     "text": [
      "[[1. 0. 0.]\n",
      " [0. 1. 0.]\n",
      " [0. 0. 1.]]\n"
     ]
    }
   ],
   "source": [
    "# creata an identity matrix\n",
    "identity = np.eye(3)\n",
    "print(identity)\n"
   ]
  },
  {
   "cell_type": "code",
   "execution_count": 20,
   "metadata": {},
   "outputs": [
    {
     "name": "stdout",
     "output_type": "stream",
     "text": [
      "[[0.42046553 0.86196553 0.78653673]\n",
      " [0.02732815 0.8415738  0.44854287]]\n"
     ]
    }
   ],
   "source": [
    "# generate numbers between 0.0, 1.0\n",
    "random01 = np.random.random((2,3))\n",
    "print(random01)"
   ]
  },
  {
   "cell_type": "code",
   "execution_count": 21,
   "metadata": {},
   "outputs": [
    {
     "name": "stdout",
     "output_type": "stream",
     "text": [
      "[[10  9  0]\n",
      " [ 3 10  3]]\n"
     ]
    }
   ],
   "source": [
    "# generate int between 0,10 - 2 by 3 array\n",
    "# the last number not included\n",
    "randomnum = np.random.randint(0,11, (2,3))\n",
    "print(randomnum)"
   ]
  },
  {
   "cell_type": "code",
   "execution_count": 22,
   "metadata": {},
   "outputs": [],
   "source": [
    "minval = 10.5\n",
    "maxval = 25.5"
   ]
  },
  {
   "cell_type": "code",
   "execution_count": 23,
   "metadata": {},
   "outputs": [
    {
     "name": "stdout",
     "output_type": "stream",
     "text": [
      "[[24.12647194 12.65936924 24.4011153 ]\n",
      " [12.12147631 20.74792815 18.01766849]]\n"
     ]
    }
   ],
   "source": [
    "randomFloat = np.random.uniform(minval, maxval, (2,3))\n",
    "print(randomFloat)"
   ]
  },
  {
   "cell_type": "code",
   "execution_count": 24,
   "metadata": {},
   "outputs": [
    {
     "name": "stdout",
     "output_type": "stream",
     "text": [
      "Dimension: 2\n",
      "Shape: (2, 3)\n",
      "Size: 6\n",
      "Data Tye: int64\n"
     ]
    }
   ],
   "source": [
    "# array inspection, indexing and slicing\n",
    "a = np.array([[1,2,4],[4,5,6]])\n",
    "\n",
    "#find the dimension of the array\n",
    "print(\"Dimension:\", a.ndim)\n",
    "print(\"Shape:\", a.shape)\n",
    "print(\"Size:\", a.size)\n",
    "print(\"Data Tye:\", a.dtype)\n"
   ]
  },
  {
   "cell_type": "code",
   "execution_count": 25,
   "metadata": {},
   "outputs": [
    {
     "name": "stdout",
     "output_type": "stream",
     "text": [
      "[[1 2 4]\n",
      " [4 5 6]]\n"
     ]
    }
   ],
   "source": [
    "print(a)"
   ]
  },
  {
   "cell_type": "code",
   "execution_count": 26,
   "metadata": {},
   "outputs": [
    {
     "name": "stdout",
     "output_type": "stream",
     "text": [
      "6\n"
     ]
    }
   ],
   "source": [
    "# inspection the array\n",
    "\n",
    "print(a[1,2])\n",
    "\n"
   ]
  },
  {
   "cell_type": "code",
   "execution_count": 27,
   "metadata": {},
   "outputs": [
    {
     "data": {
      "text/plain": [
       "array([2, 5])"
      ]
     },
     "execution_count": 27,
     "metadata": {},
     "output_type": "execute_result"
    }
   ],
   "source": [
    "a[0:2, 1]"
   ]
  },
  {
   "cell_type": "code",
   "execution_count": 28,
   "metadata": {},
   "outputs": [
    {
     "data": {
      "text/plain": [
       "array([1, 2])"
      ]
     },
     "execution_count": 28,
     "metadata": {},
     "output_type": "execute_result"
    }
   ],
   "source": [
    "a[a<3]"
   ]
  },
  {
   "cell_type": "code",
   "execution_count": 29,
   "metadata": {},
   "outputs": [
    {
     "name": "stdout",
     "output_type": "stream",
     "text": [
      "[[5 6 7]\n",
      " [1 4 5]\n",
      " [2 3 4]]\n"
     ]
    }
   ],
   "source": [
    "# diagonal\n",
    "b = np.array([[5,6,7],[1,4,5],[2,3,4]])\n",
    "print(b)"
   ]
  },
  {
   "cell_type": "code",
   "execution_count": 30,
   "metadata": {},
   "outputs": [
    {
     "data": {
      "text/plain": [
       "array([5, 4, 4])"
      ]
     },
     "execution_count": 30,
     "metadata": {},
     "output_type": "execute_result"
    }
   ],
   "source": [
    "np.diag(b)"
   ]
  },
  {
   "cell_type": "code",
   "execution_count": 31,
   "metadata": {},
   "outputs": [
    {
     "name": "stdout",
     "output_type": "stream",
     "text": [
      "[ 0  2  4 -5 -3  7  8  9 -5 -1]\n",
      "[ 0  2  4 -5 -3 -5 -1]\n"
     ]
    }
   ],
   "source": [
    "# generate a numpy array\n",
    "arr = np.array([0,2,4,5,3,7,8,9,5,1])\n",
    "\n",
    "# find the odd number and replace them with their negative value, but for numbers below 7\n",
    "arr[(arr % 2 == 1) & (arr < 7)] = -1 * arr[(arr % 2 == 1) & (arr < 7)]\n",
    "\n",
    "print(arr)\n",
    "\n",
    "# print the output only when they are below 7\n",
    "print(arr[arr < 7])\n",
    "\n"
   ]
  },
  {
   "cell_type": "code",
   "execution_count": 35,
   "metadata": {},
   "outputs": [
    {
     "data": {
      "text/plain": [
       "array([ 1,  6, 15])"
      ]
     },
     "execution_count": 35,
     "metadata": {},
     "output_type": "execute_result"
    }
   ],
   "source": [
    "# multiplying the arrays\n",
    "a = np.array([1,3,5])\n",
    "b = np.array([1,2,3])\n",
    "\n",
    "a*b"
   ]
  }
 ],
 "metadata": {
  "kernelspec": {
   "display_name": "3.12.6",
   "language": "python",
   "name": "python3"
  },
  "language_info": {
   "codemirror_mode": {
    "name": "ipython",
    "version": 3
   },
   "file_extension": ".py",
   "mimetype": "text/x-python",
   "name": "python",
   "nbconvert_exporter": "python",
   "pygments_lexer": "ipython3",
   "version": "3.12.6"
  }
 },
 "nbformat": 4,
 "nbformat_minor": 2
}
