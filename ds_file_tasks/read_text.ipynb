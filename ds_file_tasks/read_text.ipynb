{
 "cells": [
  {
   "cell_type": "code",
   "execution_count": 3,
   "metadata": {},
   "outputs": [
    {
     "name": "stdout",
     "output_type": "stream",
     "text": [
      "mango, banana\n",
      "\n",
      "pawpaw, carrot\n",
      "\n",
      "orange, yam\n"
     ]
    }
   ],
   "source": [
    "## Read from a .txt file\n",
    "with open('text.txt', 'r') as f:\n",
    "    for line in f:\n",
    "        print(line)"
   ]
  },
  {
   "cell_type": "code",
   "execution_count": 11,
   "metadata": {},
   "outputs": [
    {
     "name": "stdout",
     "output_type": "stream",
     "text": [
      "['mango', ' banana\\n']\n",
      "['pawpaw', ' carrot\\n']\n",
      "['orange', ' yam']\n"
     ]
    }
   ],
   "source": [
    "with open('text.txt', 'r') as f:\n",
    "    for line in f:\n",
    "        line = line.split(',')\n",
    "        print(line)\n",
    "        #print(line[0], line[1].rstrip())"
   ]
  },
  {
   "cell_type": "code",
   "execution_count": 17,
   "metadata": {},
   "outputs": [],
   "source": [
    "## writing or appending to a file\n",
    "def save_to_file(first_name, surname, age):\n",
    "    with open('new_data.txt', 'a') as f:\n",
    "        line = ','.join([first_name, surname, age])\n",
    "        f.write(line + '\\n')\n",
    "        f.close()\n",
    "\n",
    "first_name = input(\"Enter your first name: \")\n",
    "surname = input(\"Enter your surname: \")\n",
    "age = input(\"How old are you?: \")\n",
    "\n",
    "save_to_file(first_name, surname, age)"
   ]
  },
  {
   "cell_type": "code",
   "execution_count": 20,
   "metadata": {},
   "outputs": [
    {
     "name": "stdout",
     "output_type": "stream",
     "text": [
      "mango banana\n",
      "pawpaw carrot\n",
      "orange yam\n"
     ]
    }
   ],
   "source": [
    "## Reading from a csv file\n",
    "import csv\n",
    "\n",
    "with open('csv_data.csv','r') as csvfile:\n",
    "    reader = csv.reader(csvfile)\n",
    "    for line in reader:\n",
    "        print(line[0], line[1])\n"
   ]
  },
  {
   "cell_type": "code",
   "execution_count": 21,
   "metadata": {},
   "outputs": [],
   "source": [
    "## Wrting to a .csv file\n",
    "with open('new_csv.csv', mode= 'a') as csv_file:\n",
    "    character_writer = csv.writer(csv_file, delimiter=',',quotechar='\"', quoting=csv.QUOTE_MINIMAL)\n",
    "    character_writer.writerow(['Margo', 'Gru'])\n",
    "    character_writer.writerow(['Will', 'Smith'])\n",
    "    character_writer.writerow(['John', 'Doe'])"
   ]
  },
  {
   "cell_type": "code",
   "execution_count": 2,
   "metadata": {},
   "outputs": [],
   "source": [
    "#import the csv library\n",
    "import csv\n",
    "\n",
    "## function to open the file and return student name list\n",
    "def read_student_list(file_name):\n",
    "\n",
    "    #create an empty list for student names\n",
    "    students = []\n",
    "\n",
    "    #open the csv file in read mode\n",
    "    with open(f'{file_name}.csv') as student_file:\n",
    "        student_reader = csv.reader(student_file)\n",
    "        #for each line in the file add the data to the name list\n",
    "        for line in student_reader:\n",
    "            #add the data from the line to the end of students list\n",
    "            students.append(line[0])\n",
    "\n",
    "    #return the list of names \n",
    "    return students\n",
    "\n",
    "\n",
    "## Ask user to confirm attendance\n",
    "def student_attendance(students):\n",
    "    results = []\n",
    "\n",
    "    #loop through the students\n",
    "    for student in students:\n",
    "        \n",
    "        check_attendance = input(f\"Did {student} attend? (y/n): \").lower()\n",
    "        if check_attendance == 'y':\n",
    "            results.append([student, 'Present'])\n",
    "        else:\n",
    "            results.append([student, 'Absent'])\n",
    "    return results\n",
    "\n",
    "\n",
    "## Add a log of attendance to a new csv file\n",
    "def write_log(results):\n",
    "    with open('new_student_csv.csv', mode= 'a') as csv_file:\n",
    "        char_writer = csv.writer(csv_file, delimiter=',',quotechar='\"', quoting=csv.QUOTE_MINIMAL)\n",
    "        for result in results:\n",
    "            char_writer.writerow(result)\n",
    "\n",
    "## Program that will read, check attendance and write student list to a new csv file.\n",
    "\n",
    "def main():\n",
    "    students = read_student_list(input(\"Enter the student list file name: \"))\n",
    "    if students:\n",
    "        results = student_attendance(students)\n",
    "        write_log(results)\n",
    "        \n",
    "main()\n"
   ]
  }
 ],
 "metadata": {
  "kernelspec": {
   "display_name": "3.12.6",
   "language": "python",
   "name": "python3"
  },
  "language_info": {
   "codemirror_mode": {
    "name": "ipython",
    "version": 3
   },
   "file_extension": ".py",
   "mimetype": "text/x-python",
   "name": "python",
   "nbconvert_exporter": "python",
   "pygments_lexer": "ipython3",
   "version": "3.12.6"
  }
 },
 "nbformat": 4,
 "nbformat_minor": 2
}
